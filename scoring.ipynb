{
 "cells": [
  {
   "metadata": {},
   "cell_type": "code",
   "outputs": [
    {
     "name": "stdout",
     "output_type": "stream",
     "text": [
      "hello world\n"
     ]
    }
   ],
   "execution_count": 1,
   "source": [
    "import pandas as pd\n",
    "\n",
    "# Charger le fichier\n",
    "df = pd.read_csv('data/revenus.csv')"
   ]
  },
  {
   "metadata": {},
   "cell_type": "code",
   "outputs": [],
   "execution_count": null,
   "source": [
    "# Remplacer les valeurs manquantes représentées par \"?\" avec des valeurs NaN\n",
    "df_cleaned = df.replace('?', pd.NA, inplace=True)\n",
    "\n",
    "# Suppression de la colonne 'race'\n",
    "df_cleaned = df_cleaned.drop(columns=['race'])\n",
    "\n",
    "# Gestion des valeurs manquantes pour les variables qualitatives (catégoriques)\n",
    "# Remplacement par la valeur la plus fréquente (mode)\n",
    "for col in df_cleaned.select_dtypes(include=['object']).columns:\n",
    "    df_cleaned[col].fillna(df_cleaned[col].mode()[0], inplace=True)\n",
    "\n",
    "# Gestion des valeurs manquantes pour les variables quantitatives\n",
    "# Remplacer les valeurs manquantes par la médiane\n",
    "for col in df_cleaned.select_dtypes(include=['int64', 'float64']).columns:\n",
    "    df_cleaned[col].fillna(df_cleaned[col].median(), inplace=True)\n",
    "\n",
    "# Détection des valeurs aberrantes dans les variables quantitatives\n",
    "# En utilisant l'IQR (Interquartile Range) pour détecter les outliers\n",
    "Q1 = df_cleaned.quantile(0.25)\n",
    "Q3 = df_cleaned.quantile(0.75)\n",
    "IQR = Q3 - Q1\n",
    "\n",
    "# Filtrer les données pour ne garder que celles qui sont dans des plages acceptables\n",
    "df_cleaned = df_cleaned[~((df_cleaned < (Q1 - 1.5 * IQR)) | (df_cleaned > (Q3 + 1.5 * IQR))).any(axis=1)]\n",
    "\n",
    "# Sauvegarder le fichier nettoyé\n",
    "df_cleaned.to_csv('fichier_nettoye.csv', index=False)\n",
    "\n",
    "# Vérification finale des données\n",
    "print(df_cleaned.info())\n",
    "print(df_cleaned.describe())"
   ]
  }
 ],
 "metadata": {
  "kernelspec": {
   "display_name": "Python 3",
   "language": "python",
   "name": "python3"
  },
  "language_info": {
   "name": "python",
   "version": "3.12.4"
  }
 },
 "nbformat": 4,
 "nbformat_minor": 2
}
